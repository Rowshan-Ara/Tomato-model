{
  "nbformat": 4,
  "nbformat_minor": 0,
  "metadata": {
    "accelerator": "GPU",
    "colab": {
      "name": "Test_BiLSTM.ipynb",
      "provenance": []
    },
    "kernelspec": {
      "display_name": "Python 3",
      "language": "python",
      "name": "python3"
    },
    "language_info": {
      "codemirror_mode": {
        "name": "ipython",
        "version": 3
      },
      "file_extension": ".py",
      "mimetype": "text/x-python",
      "name": "python",
      "nbconvert_exporter": "python",
      "pygments_lexer": "ipython3",
      "version": "3.8.4"
    }
  },
  "cells": [
    {
      "cell_type": "code",
      "metadata": {
        "id": "J_ylOiVE3MkI"
      },
      "source": [
        "import random\n",
        "import torch\n",
        "import matplotlib.pyplot as plt\n",
        "import numpy as np\n",
        "import torch.nn.functional as Acivation\n",
        "from sklearn.model_selection import train_test_split\n",
        "\n",
        "from torch import nn\n",
        "from torchvision import datasets, transforms, models\n",
        "from torch.utils.data import Dataset, DataLoader\n",
        "import torch.nn.functional as F\n",
        "\n",
        "device=torch.device(\"cuda:0\" if torch.cuda.is_available() else \"cpu\")"
      ],
      "execution_count": 3,
      "outputs": []
    },
    {
      "cell_type": "code",
      "metadata": {
        "colab": {
          "base_uri": "https://localhost:8080/"
        },
        "id": "vsCPDlemByWw",
        "outputId": "29de80c1-64c5-4e59-8dd8-564e2b466c73"
      },
      "source": [
        "from google.colab import drive\n",
        "drive.mount('/content/drive')"
      ],
      "execution_count": 1,
      "outputs": [
        {
          "output_type": "stream",
          "text": [
            "Mounted at /content/drive\n"
          ],
          "name": "stdout"
        }
      ]
    },
    {
      "cell_type": "code",
      "metadata": {
        "colab": {
          "base_uri": "https://localhost:8080/"
        },
        "id": "J4jfeDjx4Ti7",
        "outputId": "ee598c70-e017-45e0-fcd9-3a5605de2ac2"
      },
      "source": [
        "import zipfile\n",
        "zip_ref = zipfile.ZipFile('/content/drive/MyDrive/work1/tdata.zip', 'r')\n",
        "file = zip_ref.extractall(\"./tmp\")\n",
        "zip_ref.close()\n",
        "\n",
        "print(\"o\")"
      ],
      "execution_count": 5,
      "outputs": [
        {
          "output_type": "stream",
          "text": [
            "o\n"
          ],
          "name": "stdout"
        }
      ]
    },
    {
      "cell_type": "code",
      "metadata": {
        "id": "9rH_6_hZ3oyq"
      },
      "source": [
        "class CNN(nn.Module):\n",
        "\n",
        "    def __init__(self,vgg_features):\n",
        "        super().__init__()\n",
        "\n",
        "        self.features = vgg_features\n",
        "\n",
        "    def forward(self, z):\n",
        "        z = self.features(z)\n",
        "        z = z.view(-1, 512*7*7)\n",
        "\n",
        "        return z\n",
        "\n",
        "\n",
        "class CNN_LSTM(nn.Module):\n",
        "\n",
        "    def __init__(self, vgg_features):\n",
        "        super(CNN_LSTM, self).__init__()\n",
        "        self.cnn = CNN(vgg_features)\n",
        "        self.rnn = nn.LSTM(\n",
        "            input_size=512*7*7, \n",
        "            hidden_size=64, \n",
        "            num_layers=1,\n",
        "            batch_first=True,\n",
        "            bidirectional=True)\n",
        "        self.linear = nn.Linear(128,10)\n",
        "\n",
        "    def forward(self, x):\n",
        "        batch_size, timesteps, C, H, W = x.size()\n",
        "        c_in = x.view(batch_size * timesteps, C, H, W)\n",
        "        c_out = self.cnn(c_in)\n",
        "        r_in = c_out.view(batch_size, timesteps, -1)\n",
        "        r_out, (h_n, h_c) = self.rnn(r_in)\n",
        "        r_out2 = self.linear(r_out[:, -1, :])\n",
        "        \n",
        "        return F.log_softmax(r_out2, dim=1)"
      ],
      "execution_count": 13,
      "outputs": []
    },
    {
      "cell_type": "code",
      "metadata": {
        "id": "nDqqZJSw3ovV"
      },
      "source": [
        "vgg_f =  models.vgg16(pretrained=True).features\n",
        "model = CNN_LSTM(vgg_f)\n"
      ],
      "execution_count": 14,
      "outputs": []
    },
    {
      "cell_type": "code",
      "metadata": {
        "id": "PRs_45J83osb"
      },
      "source": [
        "# load model\n",
        "PATH = '/content/drive/MyDrive/work2/bimodel_weights_lstm.pth'\n",
        "model = torch.load(PATH)\n",
        "# print(model)"
      ],
      "execution_count": 15,
      "outputs": []
    },
    {
      "cell_type": "code",
      "metadata": {
        "colab": {
          "base_uri": "https://localhost:8080/"
        },
        "id": "K_x181JV3op6",
        "outputId": "12e753f4-f733-4e9b-c88a-c625dfe5d3e8"
      },
      "source": [
        "from PIL import Image\n",
        "\n",
        "\n",
        "transform1 = transforms.Compose([\n",
        "    transforms.Resize((224, 224)),\n",
        "    transforms.ToTensor(),\n",
        "    transforms.Normalize((0.5, ), (0.5,))\n",
        "\n",
        "])\n",
        "\n",
        "CATEGORIES=[\"Tomato___Bacterial_spot\",\"Tomato___Early_blight\",\n",
        "            \"Tomato___healthy\",\"Tomato___Late_blight\",\n",
        "            \"Tomato___Leaf_Mold\",\"Tomato___Septoria_leaf_spot\",\n",
        "            \"Tomato___Spider_mites Two-spotted_spider_mite\",\"Tomato___Target_Spot\",\n",
        "            \"Tomato___Tomato_mosaic_virus\",\"Tomato___Tomato_Yellow_Leaf_Curl_Virus\"]\n",
        "        \n",
        "path = '/content/drive/MyDrive/work2/imgs/septoria/ (5).JPG'\n",
        "img = Image.open(path)\n",
        "# img.shape\n",
        "img = transform1(img)\n",
        "img.shape\n",
        "\n",
        "image = img.view(1,1,img.shape[0], img.shape[1], img.shape[2])\n",
        "image.shape\n",
        "\n",
        "\n",
        "output = model(image.to(device)).to(device)\n",
        "_,pred=torch.max(output,1)\n",
        "print(pred[0].item())\n",
        "print(CATEGORIES[pred[0].item()])"
      ],
      "execution_count": 122,
      "outputs": [
        {
          "output_type": "stream",
          "text": [
            "0\n",
            "Tomato___Bacterial_spot\n"
          ],
          "name": "stdout"
        }
      ]
    },
    {
      "cell_type": "code",
      "metadata": {
        "id": "fCv_Dl4s3omy"
      },
      "source": [
        ""
      ],
      "execution_count": null,
      "outputs": []
    },
    {
      "cell_type": "code",
      "metadata": {
        "id": "PyVlUJvW3okB"
      },
      "source": [
        "\n"
      ],
      "execution_count": null,
      "outputs": []
    }
  ]
}