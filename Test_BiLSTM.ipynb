{
 "cells": [
  {
   "cell_type": "code",
   "execution_count": 16,
   "metadata": {
    "executionInfo": {
     "elapsed": 1801,
     "status": "ok",
     "timestamp": 1613803462068,
     "user": {
      "displayName": "Md. Jahid Hasan",
      "photoUrl": "https://lh3.googleusercontent.com/a-/AOh14GjwEc8GVeomnZNLV49P22ubp2YJfmPumKmUkM_Oqg=s64",
      "userId": "03362979917466533307"
     },
     "user_tz": -360
    },
    "id": "J_ylOiVE3MkI"
   },
   "outputs": [],
   "source": [
    "import random\n",
    "import torch\n",
    "import matplotlib.pyplot as plt\n",
    "import numpy as np\n",
    "import torch.nn.functional as Acivation\n",
    "from sklearn.model_selection import train_test_split\n",
    "\n",
    "from torch import nn\n",
    "from torchvision import datasets, transforms, models\n",
    "from torch.utils.data import Dataset, DataLoader\n",
    "import torch.nn.functional as F\n",
    "\n",
    "device=torch.device(\"cuda:0\" if torch.cuda.is_available() else \"cpu\")"
   ]
  },
  {
   "cell_type": "code",
   "execution_count": 17,
   "metadata": {
    "colab": {
     "base_uri": "https://localhost:8080/"
    },
    "executionInfo": {
     "elapsed": 1794,
     "status": "ok",
     "timestamp": 1613803462069,
     "user": {
      "displayName": "Md. Jahid Hasan",
      "photoUrl": "https://lh3.googleusercontent.com/a-/AOh14GjwEc8GVeomnZNLV49P22ubp2YJfmPumKmUkM_Oqg=s64",
      "userId": "03362979917466533307"
     },
     "user_tz": -360
    },
    "id": "vsCPDlemByWw",
    "outputId": "8275975e-18e4-4e0a-f2d9-35a9999b0630"
   },
   "outputs": [
    {
     "name": "stdout",
     "output_type": "stream",
     "text": [
      "Drive already mounted at /content/drive; to attempt to forcibly remount, call drive.mount(\"/content/drive\", force_remount=True).\n"
     ]
    }
   ],
   "source": [
    "from google.colab import drive\n",
    "drive.mount('/content/drive')"
   ]
  },
  {
   "cell_type": "code",
   "execution_count": 18,
   "metadata": {
    "colab": {
     "base_uri": "https://localhost:8080/"
    },
    "executionInfo": {
     "elapsed": 8384,
     "status": "ok",
     "timestamp": 1613803468665,
     "user": {
      "displayName": "Md. Jahid Hasan",
      "photoUrl": "https://lh3.googleusercontent.com/a-/AOh14GjwEc8GVeomnZNLV49P22ubp2YJfmPumKmUkM_Oqg=s64",
      "userId": "03362979917466533307"
     },
     "user_tz": -360
    },
    "id": "J4jfeDjx4Ti7",
    "outputId": "9ad92896-a344-4e1d-d685-dcdbb0bc0b72"
   },
   "outputs": [
    {
     "name": "stdout",
     "output_type": "stream",
     "text": [
      "o\n"
     ]
    }
   ],
   "source": [
    "import zipfile\n",
    "zip_ref = zipfile.ZipFile('/content/drive/MyDrive/tdata.zip', 'r')\n",
    "file = zip_ref.extractall(\"./tmp\")\n",
    "zip_ref.close()\n",
    "\n",
    "print(\"o\")"
   ]
  },
  {
   "cell_type": "code",
   "execution_count": 18,
   "metadata": {
    "executionInfo": {
     "elapsed": 8383,
     "status": "ok",
     "timestamp": 1613803468667,
     "user": {
      "displayName": "Md. Jahid Hasan",
      "photoUrl": "https://lh3.googleusercontent.com/a-/AOh14GjwEc8GVeomnZNLV49P22ubp2YJfmPumKmUkM_Oqg=s64",
      "userId": "03362979917466533307"
     },
     "user_tz": -360
    },
    "id": "xsm_06Hs4TW3"
   },
   "outputs": [],
   "source": []
  },
  {
   "cell_type": "code",
   "execution_count": 18,
   "metadata": {
    "executionInfo": {
     "elapsed": 8382,
     "status": "ok",
     "timestamp": 1613803468668,
     "user": {
      "displayName": "Md. Jahid Hasan",
      "photoUrl": "https://lh3.googleusercontent.com/a-/AOh14GjwEc8GVeomnZNLV49P22ubp2YJfmPumKmUkM_Oqg=s64",
      "userId": "03362979917466533307"
     },
     "user_tz": -360
    },
    "id": "eP3hD54W4TP7"
   },
   "outputs": [],
   "source": []
  },
  {
   "cell_type": "code",
   "execution_count": 19,
   "metadata": {
    "executionInfo": {
     "elapsed": 8379,
     "status": "ok",
     "timestamp": 1613803468669,
     "user": {
      "displayName": "Md. Jahid Hasan",
      "photoUrl": "https://lh3.googleusercontent.com/a-/AOh14GjwEc8GVeomnZNLV49P22ubp2YJfmPumKmUkM_Oqg=s64",
      "userId": "03362979917466533307"
     },
     "user_tz": -360
    },
    "id": "9rH_6_hZ3oyq"
   },
   "outputs": [],
   "source": [
    "class CNN(nn.Module):\n",
    "\n",
    "    def __init__(self,vgg_features):\n",
    "        super().__init__()\n",
    "\n",
    "        self.features = vgg_features\n",
    "\n",
    "    def forward(self, z):\n",
    "        z = self.features(z)\n",
    "        z = z.view(-1, 512*7*7)\n",
    "\n",
    "        return z\n",
    "\n",
    "\n",
    "class CNN_LSTM(nn.Module):\n",
    "\n",
    "    def __init__(self, vgg_features):\n",
    "        super(CNN_LSTM, self).__init__()\n",
    "        self.cnn = CNN(vgg_features)\n",
    "        self.rnn = nn.LSTM(\n",
    "            input_size=512*7*7, \n",
    "            hidden_size=64, \n",
    "            num_layers=1,\n",
    "            batch_first=True)\n",
    "        self.linear = nn.Linear(64,10)\n",
    "\n",
    "    def forward(self, x):\n",
    "        batch_size, timesteps, C, H, W = x.size()\n",
    "        c_in = x.view(batch_size * timesteps, C, H, W)\n",
    "        c_out = self.cnn(c_in)\n",
    "        r_in = c_out.view(batch_size, timesteps, -1)\n",
    "        r_out, (h_n, h_c) = self.rnn(r_in)\n",
    "        r_out2 = self.linear(r_out[:, -1, :])\n",
    "        \n",
    "        return F.log_softmax(r_out2, dim=1)"
   ]
  },
  {
   "cell_type": "code",
   "execution_count": 20,
   "metadata": {
    "executionInfo": {
     "elapsed": 9869,
     "status": "ok",
     "timestamp": 1613803470163,
     "user": {
      "displayName": "Md. Jahid Hasan",
      "photoUrl": "https://lh3.googleusercontent.com/a-/AOh14GjwEc8GVeomnZNLV49P22ubp2YJfmPumKmUkM_Oqg=s64",
      "userId": "03362979917466533307"
     },
     "user_tz": -360
    },
    "id": "nDqqZJSw3ovV"
   },
   "outputs": [],
   "source": [
    "vgg_f =  models.vgg16(pretrained=True).features\n",
    "model = CNN_LSTM(vgg_f)\n"
   ]
  },
  {
   "cell_type": "code",
   "execution_count": 21,
   "metadata": {
    "executionInfo": {
     "elapsed": 9866,
     "status": "ok",
     "timestamp": 1613803470166,
     "user": {
      "displayName": "Md. Jahid Hasan",
      "photoUrl": "https://lh3.googleusercontent.com/a-/AOh14GjwEc8GVeomnZNLV49P22ubp2YJfmPumKmUkM_Oqg=s64",
      "userId": "03362979917466533307"
     },
     "user_tz": -360
    },
    "id": "PRs_45J83osb"
   },
   "outputs": [],
   "source": [
    "# load model\n",
    "PATH = '/content/drive/MyDrive/Colab Notebooks/CSE16/Luna/weights/lstm(e20).pth'\n",
    "model = torch.load(PATH)\n",
    "# print(model)"
   ]
  },
  {
   "cell_type": "code",
   "execution_count": 23,
   "metadata": {
    "colab": {
     "base_uri": "https://localhost:8080/"
    },
    "executionInfo": {
     "elapsed": 1493,
     "status": "ok",
     "timestamp": 1613803667694,
     "user": {
      "displayName": "Md. Jahid Hasan",
      "photoUrl": "https://lh3.googleusercontent.com/a-/AOh14GjwEc8GVeomnZNLV49P22ubp2YJfmPumKmUkM_Oqg=s64",
      "userId": "03362979917466533307"
     },
     "user_tz": -360
    },
    "id": "K_x181JV3op6",
    "outputId": "22a1b141-5654-4989-dcd5-174926fc824e"
   },
   "outputs": [
    {
     "name": "stdout",
     "output_type": "stream",
     "text": [
      "7\n",
      "Tomato___Target_Spot\n"
     ]
    }
   ],
   "source": [
    "from PIL import Image\n",
    "\n",
    "# compose allow us to chain multiple transform together\n",
    "transform1 = transforms.Compose([\n",
    "    transforms.Resize((224, 224)),\n",
    "    transforms.ToTensor(),\n",
    "    transforms.Normalize((0.5, ), (0.5,))\n",
    "\n",
    "])\n",
    "\n",
    "CATEGORIES=[\"Tomato___Bacterial_spot\",\"Tomato___Early_blight\",\n",
    "            \"Tomato___healthy\",\"Tomato___Late_blight\",\n",
    "            \"Tomato___Leaf_Mold\",\"Tomato___Septoria_leaf_spot\",\n",
    "            \"Tomato___Spider_mites Two-spotted_spider_mite\",\"Tomato___Target_Spot\",\n",
    "            \"Tomato___Tomato_mosaic_virus\",\"Tomato___Tomato_Yellow_Leaf_Curl_Virus\"]\n",
    "        \n",
    "path = '/content/tmp/tdata/valid/Tomato___Target_Spot/01f0e0cb-83a7-4190-9645-bd06b70c8d65___Com.G_TgS_FL 8318_new30degFlipLR.JPG'\n",
    "img = Image.open(path)\n",
    "# img.shape\n",
    "img = transform1(img)\n",
    "img.shape\n",
    "\n",
    "image = img.view(1,1,img.shape[0], img.shape[1], img.shape[2])\n",
    "image.shape\n",
    "\n",
    "\n",
    "output = model(image.to(device)).to(device)\n",
    "_,pred=torch.max(output,1)\n",
    "print(pred[0].item())\n",
    "print(CATEGORIES[pred[0].item()])"
   ]
  },
  {
   "cell_type": "code",
   "execution_count": 22,
   "metadata": {
    "executionInfo": {
     "elapsed": 9861,
     "status": "ok",
     "timestamp": 1613803470168,
     "user": {
      "displayName": "Md. Jahid Hasan",
      "photoUrl": "https://lh3.googleusercontent.com/a-/AOh14GjwEc8GVeomnZNLV49P22ubp2YJfmPumKmUkM_Oqg=s64",
      "userId": "03362979917466533307"
     },
     "user_tz": -360
    },
    "id": "fCv_Dl4s3omy"
   },
   "outputs": [],
   "source": []
  },
  {
   "cell_type": "code",
   "execution_count": 22,
   "metadata": {
    "executionInfo": {
     "elapsed": 9859,
     "status": "ok",
     "timestamp": 1613803470168,
     "user": {
      "displayName": "Md. Jahid Hasan",
      "photoUrl": "https://lh3.googleusercontent.com/a-/AOh14GjwEc8GVeomnZNLV49P22ubp2YJfmPumKmUkM_Oqg=s64",
      "userId": "03362979917466533307"
     },
     "user_tz": -360
    },
    "id": "PyVlUJvW3okB"
   },
   "outputs": [],
   "source": [
    "\n"
   ]
  }
 ],
 "metadata": {
  "accelerator": "GPU",
  "colab": {
   "authorship_tag": "ABX9TyP28DRNTJjtCt4ysIOtbxUZ",
   "mount_file_id": "1uazhCvAOrDmPQQ4z1V4hMOIwc_Yriz2f",
   "name": "Test_BiLSTM.ipynb",
   "provenance": []
  },
  "kernelspec": {
   "display_name": "Python 3",
   "language": "python",
   "name": "python3"
  },
  "language_info": {
   "codemirror_mode": {
    "name": "ipython",
    "version": 3
   },
   "file_extension": ".py",
   "mimetype": "text/x-python",
   "name": "python",
   "nbconvert_exporter": "python",
   "pygments_lexer": "ipython3",
   "version": "3.8.4"
  }
 },
 "nbformat": 4,
 "nbformat_minor": 1
}
