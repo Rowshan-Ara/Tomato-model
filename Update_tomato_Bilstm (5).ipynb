{
  "nbformat": 4,
  "nbformat_minor": 0,
  "metadata": {
    "colab": {
      "name": "Update tomato-Bilstm.ipynb",
      "provenance": [],
      "collapsed_sections": [],
      "toc_visible": true
    },
    "kernelspec": {
      "display_name": "Python 3",
      "language": "python",
      "name": "python3"
    },
    "language_info": {
      "codemirror_mode": {
        "name": "ipython",
        "version": 3
      },
      "file_extension": ".py",
      "mimetype": "text/x-python",
      "name": "python",
      "nbconvert_exporter": "python",
      "pygments_lexer": "ipython3",
      "version": "3.8.4"
    },
    "accelerator": "GPU"
  },
  "cells": [
    {
      "cell_type": "code",
      "metadata": {
        "id": "8w7Ta-M2TEwW"
      },
      "source": [
        "import pandas as pd\n",
        "import cv2 as cv\n",
        "import numpy as np\n",
        "import matplotlib.pyplot as plt\n",
        "import os\n",
        "import seaborn as sns"
      ],
      "execution_count": 618,
      "outputs": []
    },
    {
      "cell_type": "code",
      "metadata": {
        "id": "IFJsu4TnTeG2"
      },
      "source": [
        ""
      ],
      "execution_count": 618,
      "outputs": []
    },
    {
      "cell_type": "code",
      "metadata": {
        "colab": {
          "base_uri": "https://localhost:8080/"
        },
        "id": "mBip__-UTgbF",
        "outputId": "8f1f06de-3bf4-41ce-aa7c-5a191a55a2e1"
      },
      "source": [
        "from google.colab import drive\n",
        "drive.mount('/content/drive')"
      ],
      "execution_count": 619,
      "outputs": [
        {
          "output_type": "stream",
          "text": [
            "Drive already mounted at /content/drive; to attempt to forcibly remount, call drive.mount(\"/content/drive\", force_remount=True).\n"
          ],
          "name": "stdout"
        }
      ]
    },
    {
      "cell_type": "code",
      "metadata": {
        "colab": {
          "base_uri": "https://localhost:8080/"
        },
        "id": "ApURnndDUJyb",
        "outputId": "a85d4d14-2c50-435a-94a9-6ab1741d96e5"
      },
      "source": [
        "import zipfile\n",
        "zip_ref = zipfile.ZipFile('/content/drive/MyDrive/work1/tdata.zip', 'r')\n",
        "file = zip_ref.extractall(\"./tmp\")\n",
        "zip_ref.close()\n",
        "\n",
        "print(\"o\")"
      ],
      "execution_count": 620,
      "outputs": [
        {
          "output_type": "stream",
          "text": [
            "o\n"
          ],
          "name": "stdout"
        }
      ]
    },
    {
      "cell_type": "code",
      "metadata": {
        "id": "FzeG-PyQTEwi"
      },
      "source": [
        "DATASET=\"/content/tmp/tdata/train\"\n",
        "DATASET2=\"/content/tmp/tdata/valid\""
      ],
      "execution_count": 621,
      "outputs": []
    },
    {
      "cell_type": "code",
      "metadata": {
        "id": "tx3cdsTtTEwj"
      },
      "source": [
        "CATEGORIES=[\"Tomato___Bacterial_spot\",\"Tomato___Early_blight\",\"Tomato___healthy\",\"Tomato___Late_blight\",\"Tomato___Leaf_Mold\",\"Tomato___Septoria_leaf_spot\",\"Tomato___Spider_mites Two-spotted_spider_mite\",\"Tomato___Target_Spot\",\"Tomato___Tomato_mosaic_virus\",\"Tomato___Tomato_Yellow_Leaf_Curl_Virus\"]\n",
        "        \n",
        "train_data=[]"
      ],
      "execution_count": 622,
      "outputs": []
    },
    {
      "cell_type": "code",
      "metadata": {
        "id": "7p5M6tYATEwj"
      },
      "source": [
        "import os\n",
        "import tensorflow as tf\n",
        "\n",
        "import cv2\n",
        "for category in CATEGORIES:\n",
        "        label=CATEGORIES.index(category)\n",
        "        path=os.path.join(DATASET,category)\n",
        "        for img_file in os.listdir(path):\n",
        "            img=cv2.imread(os.path.join(path,img_file),1)\n",
        "            img=cv2.cvtColor(img,cv2.COLOR_BGR2RGB)\n",
        "            img=cv2.resize(img,(64,64))            \n",
        "            train_data.append([img,label])\n",
        "            \n",
        "test_data=[]"
      ],
      "execution_count": 623,
      "outputs": []
    },
    {
      "cell_type": "code",
      "metadata": {
        "colab": {
          "base_uri": "https://localhost:8080/"
        },
        "id": "s1s6SPghTEwk",
        "outputId": "edb4fc1a-a8cf-45c5-b2b4-54ca0ad30af1"
      },
      "source": [
        "for category in CATEGORIES:\n",
        "        label=CATEGORIES.index(category)\n",
        "        path=os.path.join(DATASET2,category)\n",
        "        for img_file in os.listdir(path):\n",
        "            img=cv2.imread(os.path.join(path,img_file),1)\n",
        "            img=cv2.cvtColor(img,cv2.COLOR_BGR2RGB)\n",
        "            img=cv2.resize(img,(64,64))\n",
        "            test_data.append([img,label])\n",
        "            \n",
        "print(len(train_data))\n",
        "print(len(test_data))"
      ],
      "execution_count": 624,
      "outputs": [
        {
          "output_type": "stream",
          "text": [
            "18345\n",
            "4585\n"
          ],
          "name": "stdout"
        }
      ]
    },
    {
      "cell_type": "code",
      "metadata": {
        "id": "Xwv8CMHITEwl"
      },
      "source": [
        "import random"
      ],
      "execution_count": 625,
      "outputs": []
    },
    {
      "cell_type": "code",
      "metadata": {
        "id": "mWq-4TpOTEwl"
      },
      "source": [
        "random.shuffle(train_data)\n",
        "random.shuffle(test_data)"
      ],
      "execution_count": 626,
      "outputs": []
    },
    {
      "cell_type": "code",
      "metadata": {
        "colab": {
          "base_uri": "https://localhost:8080/"
        },
        "id": "s6bbGTJ-TEwm",
        "outputId": "5e98aa2e-9955-450b-cf7c-80c8e2f5f470"
      },
      "source": [
        "for lbl in train_data[:10]:\n",
        "    print(lbl[1])\n",
        "    \n",
        "X_train=[]\n",
        "y_train=[]"
      ],
      "execution_count": 627,
      "outputs": [
        {
          "output_type": "stream",
          "text": [
            "0\n",
            "7\n",
            "9\n",
            "6\n",
            "7\n",
            "1\n",
            "6\n",
            "3\n",
            "5\n",
            "7\n"
          ],
          "name": "stdout"
        }
      ]
    },
    {
      "cell_type": "code",
      "metadata": {
        "id": "2xE8-Xk1TEwn"
      },
      "source": [
        "for features,label in train_data:\n",
        "    X_train.append(features)\n",
        "    y_train.append(label)"
      ],
      "execution_count": 628,
      "outputs": []
    },
    {
      "cell_type": "code",
      "metadata": {
        "id": "cziT6XvBTEwn"
      },
      "source": [
        "Y=[]\n",
        "for i in y_train:\n",
        "    if i==0:\n",
        "        Y.append(\"BACTERIAL SPOT\")\n",
        "    elif i==1:\n",
        "        Y.append(\"EARLY BLIGHT\")\n",
        "    elif i==2:\n",
        "        Y.append(\"HEALTHY\")\n",
        "    elif i==3:\n",
        "        Y.append(\"LATE BLIGHT\")\n",
        "    elif i==4:\n",
        "        Y.append(\"LEAF MOLD\")\n",
        "    elif i==5:\n",
        "        Y.append(\"SEPTORIA LEAF SPOT\")\n",
        "    elif i==6:\n",
        "        Y.append(\"SPIDER MITE\")\n",
        "    elif i==7:\n",
        "        Y.append(\"TARGET SPOT\")\n",
        "    elif i==8:\n",
        "        Y.append(\"MOSAIC VIRUS\")\n",
        "    else:\n",
        "        Y.append(\"YELLOW LEAF CURL VIRUS\")"
      ],
      "execution_count": 629,
      "outputs": []
    },
    {
      "cell_type": "code",
      "metadata": {
        "colab": {
          "base_uri": "https://localhost:8080/"
        },
        "id": "kI-Z2MXgTEwo",
        "outputId": "b3d65df3-31db-41df-d197-d834e65de1d3"
      },
      "source": [
        "len(X_train),len(y_train)"
      ],
      "execution_count": 630,
      "outputs": [
        {
          "output_type": "execute_result",
          "data": {
            "text/plain": [
              "(18345, 18345)"
            ]
          },
          "metadata": {
            "tags": []
          },
          "execution_count": 630
        }
      ]
    },
    {
      "cell_type": "code",
      "metadata": {
        "id": "B_6f80PZTEwp"
      },
      "source": [
        "X_test=[]\n",
        "y_test=[]"
      ],
      "execution_count": 631,
      "outputs": []
    },
    {
      "cell_type": "code",
      "metadata": {
        "id": "pPc7Gk0CTEwq"
      },
      "source": [
        "for features,label in test_data:\n",
        "    X_test.append(features)\n",
        "    y_test.append(label)\n",
        "    \n",
        "Z=[]\n",
        "for i in y_test:\n",
        "    if i==0:\n",
        "        Z.append(\"BACTERIAL SPOT\")\n",
        "    elif i==1:\n",
        "        Z.append(\"EARLY BLIGHT\")\n",
        "    elif i==2:\n",
        "        Z.append(\"HEALTHY\")\n",
        "    elif i==3:\n",
        "        Z.append(\"LATE BLIGHT\")\n",
        "    elif i==4:\n",
        "        Z.append(\"LEAF MOLD\")\n",
        "    elif i==5:\n",
        "        Z.append(\"SEPTORIA LEAF SPOT\")\n",
        "    elif i==6:\n",
        "        Z.append(\"SPIDER MITE\")\n",
        "    elif i==7:\n",
        "        Z.append(\"TARGET SPOT\")\n",
        "    elif i==8:\n",
        "        Z.append(\"MOSAIC VIRUS\")\n",
        "    else:\n",
        "        Z.append(\"YELLOW LEAF CURL VIRUS\")"
      ],
      "execution_count": 632,
      "outputs": []
    },
    {
      "cell_type": "code",
      "metadata": {
        "colab": {
          "base_uri": "https://localhost:8080/"
        },
        "id": "23Mg0tdnTEwq",
        "outputId": "4aae2847-0b8c-4964-d934-fea728dd0691"
      },
      "source": [
        "len(X_test),len(y_test)"
      ],
      "execution_count": 633,
      "outputs": [
        {
          "output_type": "execute_result",
          "data": {
            "text/plain": [
              "(4585, 4585)"
            ]
          },
          "metadata": {
            "tags": []
          },
          "execution_count": 633
        }
      ]
    },
    {
      "cell_type": "code",
      "metadata": {
        "colab": {
          "base_uri": "https://localhost:8080/"
        },
        "id": "H-JwF9AATEwr",
        "outputId": "9a18f157-7cca-44a2-bb07-00a9e786bc7d"
      },
      "source": [
        "import numpy as np\n",
        "X_train=np.array(X_train).reshape(-1,1, 64,64,3)\n",
        "X_train=X_train/255.0\n",
        "X_train.shape"
      ],
      "execution_count": 634,
      "outputs": [
        {
          "output_type": "execute_result",
          "data": {
            "text/plain": [
              "(18345, 1, 64, 64, 3)"
            ]
          },
          "metadata": {
            "tags": []
          },
          "execution_count": 634
        }
      ]
    },
    {
      "cell_type": "code",
      "metadata": {
        "colab": {
          "base_uri": "https://localhost:8080/"
        },
        "id": "MpoPKSX9TEwr",
        "outputId": "e3e13e12-a417-451c-b4d9-26a78dc216a3"
      },
      "source": [
        "X_test=np.array(X_test).reshape(-1,1, 64,64,3)\n",
        "X_test=X_test/255.0\n",
        "X_test.shape"
      ],
      "execution_count": 635,
      "outputs": [
        {
          "output_type": "execute_result",
          "data": {
            "text/plain": [
              "(4585, 1, 64, 64, 3)"
            ]
          },
          "metadata": {
            "tags": []
          },
          "execution_count": 635
        }
      ]
    },
    {
      "cell_type": "code",
      "metadata": {
        "id": "zxsvRUeRTEws"
      },
      "source": [
        "order=['BACTERIAL SPOT','EARLY BLIGHT','HEALTHY','LATE BLIGHT','LEAF MOLD','SEPTORIA LEAF SPOT','SPIDER MITE','TARGET SPOT','MOSAIC VIRUS','YELLOW LEAF CURL VIRUS']"
      ],
      "execution_count": 636,
      "outputs": []
    },
    {
      "cell_type": "code",
      "metadata": {
        "colab": {
          "base_uri": "https://localhost:8080/",
          "height": 432
        },
        "id": "_ItdYM9ATEws",
        "outputId": "ac062b60-b817-4a7c-f3d4-9b5dc782342e"
      },
      "source": [
        "import seaborn as sns\n",
        "ax=sns.countplot(Y, order=order)\n",
        "ax.set_xlabel(\"Leaf Diseases\")\n",
        "ax.set_xticklabels(ax.get_xticklabels(), rotation=40, ha='right')\n",
        "ax.set_ylabel(\"Image Count\")"
      ],
      "execution_count": 637,
      "outputs": [
        {
          "output_type": "stream",
          "text": [
            "/usr/local/lib/python3.6/dist-packages/seaborn/_decorators.py:43: FutureWarning: Pass the following variable as a keyword arg: x. From version 0.12, the only valid positional argument will be `data`, and passing other arguments without an explicit keyword will result in an error or misinterpretation.\n",
            "  FutureWarning\n"
          ],
          "name": "stderr"
        },
        {
          "output_type": "execute_result",
          "data": {
            "text/plain": [
              "Text(0, 0.5, 'Image Count')"
            ]
          },
          "metadata": {
            "tags": []
          },
          "execution_count": 637
        },
        {
          "output_type": "display_data",
          "data": {
            "image/png": "[encoded data removed]",
            "text/plain": [
              "<Figure size 432x288 with 1 Axes>"
            ]
          },
          "metadata": {
            "tags": [],
            "needs_background": "light"
          }
        }
      ]
    },
    {
      "cell_type": "code",
      "metadata": {
        "colab": {
          "base_uri": "https://localhost:8080/",
          "height": 432
        },
        "id": "JSRNU_KyTEwt",
        "outputId": "52ff35bc-f2f7-4f89-ee52-8c81607f2474"
      },
      "source": [
        "ax=sns.countplot(Z, order=order)\n",
        "ax.set_xlabel(\"Leaf Diseases\")\n",
        "ax.set_xticklabels(ax.get_xticklabels(), rotation=40, ha='right')\n",
        "ax.set_ylabel(\"Image Count\")"
      ],
      "execution_count": 638,
      "outputs": [
        {
          "output_type": "stream",
          "text": [
            "/usr/local/lib/python3.6/dist-packages/seaborn/_decorators.py:43: FutureWarning: Pass the following variable as a keyword arg: x. From version 0.12, the only valid positional argument will be `data`, and passing other arguments without an explicit keyword will result in an error or misinterpretation.\n",
            "  FutureWarning\n"
          ],
          "name": "stderr"
        },
        {
          "output_type": "execute_result",
          "data": {
            "text/plain": [
              "Text(0, 0.5, 'Image Count')"
            ]
          },
          "metadata": {
            "tags": []
          },
          "execution_count": 638
        },
        {
          "output_type": "display_data",
          "data": {
            "image/png": "[encoded data removed]",
            "text/plain": [
              "<Figure size 432x288 with 1 Axes>"
            ]
          },
          "metadata": {
            "tags": [],
            "needs_background": "light"
          }
        }
      ]
    },
    {
      "cell_type": "code",
      "metadata": {
        "id": "XahJc1XgTEwt"
      },
      "source": [
        "import matplotlib.image as mpimg\n",
        "from keras.models import Sequential\n",
        "from keras.layers.convolutional import Conv2D\n",
        "from keras.layers.convolutional import MaxPooling2D\n",
        "from keras.layers.core import Activation, Flatten, Dropout, Dense\n",
        "from keras.layers.normalization import BatchNormalization\n",
        "from sklearn.model_selection import train_test_split\n",
        "from keras.preprocessing.image import ImageDataGenerator\n",
        "from sklearn.preprocessing import LabelBinarizer\n",
        "from keras.utils import to_categorical"
      ],
      "execution_count": 639,
      "outputs": []
    },
    {
      "cell_type": "code",
      "metadata": {
        "colab": {
          "base_uri": "https://localhost:8080/"
        },
        "id": "XukYs1AITEwt",
        "outputId": "a2143702-5c14-4072-ef1a-c9886674ed24"
      },
      "source": [
        "one_hot_train=to_categorical(y_train)\n",
        "one_hot_train"
      ],
      "execution_count": 640,
      "outputs": [
        {
          "output_type": "execute_result",
          "data": {
            "text/plain": [
              "array([[1., 0., 0., ..., 0., 0., 0.],\n",
              "       [0., 0., 0., ..., 1., 0., 0.],\n",
              "       [0., 0., 0., ..., 0., 0., 1.],\n",
              "       ...,\n",
              "       [0., 1., 0., ..., 0., 0., 0.],\n",
              "       [0., 0., 0., ..., 0., 0., 0.],\n",
              "       [0., 1., 0., ..., 0., 0., 0.]], dtype=float32)"
            ]
          },
          "metadata": {
            "tags": []
          },
          "execution_count": 640
        }
      ]
    },
    {
      "cell_type": "code",
      "metadata": {
        "colab": {
          "base_uri": "https://localhost:8080/"
        },
        "id": "UKgrwc1_TEwu",
        "outputId": "ef7ea3b1-8b2c-40b2-f509-cb34763d94e4"
      },
      "source": [
        "one_hot_test=to_categorical(y_test)\n",
        "one_hot_test"
      ],
      "execution_count": 641,
      "outputs": [
        {
          "output_type": "execute_result",
          "data": {
            "text/plain": [
              "array([[0., 0., 0., ..., 0., 0., 0.],\n",
              "       [0., 1., 0., ..., 0., 0., 0.],\n",
              "       [0., 0., 1., ..., 0., 0., 0.],\n",
              "       ...,\n",
              "       [0., 0., 0., ..., 0., 0., 0.],\n",
              "       [0., 0., 0., ..., 0., 0., 0.],\n",
              "       [0., 0., 0., ..., 0., 0., 0.]], dtype=float32)"
            ]
          },
          "metadata": {
            "tags": []
          },
          "execution_count": 641
        }
      ]
    },
    {
      "cell_type": "code",
      "metadata": {
        "id": "2x4l0TTsTEwu"
      },
      "source": [
        "from tensorflow.keras.models import Sequential\n",
        "from tensorflow.keras.layers import Conv2D,Dense,Flatten,MaxPooling2D,Dropout\n",
        "from tensorflow.keras.layers import Dense, Input, Conv2D, Flatten, MaxPooling2D, Activation,Dropout,BatchNormalization\n",
        "from tensorflow.keras.models import Model\n",
        "from tensorflow.keras.layers import TimeDistributed\n",
        "from tensorflow.keras.layers import LSTM\n",
        "from tensorflow.keras.layers import Bidirectional"
      ],
      "execution_count": 642,
      "outputs": []
    },
    {
      "cell_type": "code",
      "metadata": {
        "id": "YPPwf6A4TEwu"
      },
      "source": [
        ""
      ],
      "execution_count": 642,
      "outputs": []
    },
    {
      "cell_type": "markdown",
      "metadata": {
        "id": "2OHbdZXmfXBv"
      },
      "source": [
        "## CNN"
      ]
    },
    {
      "cell_type": "code",
      "metadata": {
        "id": "3BAvPRFETEwu"
      },
      "source": [
        "# classifier=Sequential()\n",
        "# classifier.add(Conv2D(32,(3,3), input_shape=(64,64,3), activation='relu'))\n",
        "# classifier.add(MaxPooling2D(pool_size=(2,2)))\n",
        "# classifier.add(Dropout(0.2))\n",
        "# classifier.add(Conv2D(64,(3,3), activation='relu'))\n",
        "# classifier.add(MaxPooling2D(pool_size=(2,2)))\n",
        "# classifier.add(Dropout(0.2))\n",
        "# classifier.add(Conv2D(128,(3,3), activation='relu'))\n",
        "# classifier.add(MaxPooling2D(pool_size=(2,2)))\n",
        "# classifier.add(Dropout(0.4))\n",
        "\n",
        "# # classifier.add(Flatten())\n",
        "\n",
        "# # classifier.add(Dense(activation='relu', units=64))\n",
        "# # classifier.add(Dense(activation='relu', units=128))\n",
        "# # classifier.add(Dense(activation='relu', units=64))\n",
        "# # classifier.add(Dense(activation='softmax', units=10))\n",
        "\n",
        "# classifier.summary()"
      ],
      "execution_count": 643,
      "outputs": []
    },
    {
      "cell_type": "markdown",
      "metadata": {
        "id": "EPziywOnfUBi"
      },
      "source": [
        "## CNN-BiLSTM"
      ]
    },
    {
      "cell_type": "code",
      "metadata": {
        "colab": {
          "base_uri": "https://localhost:8080/"
        },
        "id": "tKtPjsSedNXu",
        "outputId": "339c7f00-05fe-4453-faf8-99d5aa7a52f3"
      },
      "source": [
        "def my_model():\n",
        "  \n",
        "  input_shape = (64, 64, 3)\n",
        "\n",
        "  model = Sequential()\n",
        "  x_input = Input(shape=input_shape)\n",
        "  x = Conv2D(32, (3, 3), activation='relu')(x_input)\n",
        "  x = MaxPooling2D(pool_size=(2, 2))(x)\n",
        "  x = Dropout(0.2)(x)\n",
        "\n",
        "  x = Conv2D(64, (3, 3), activation='relu',)(x)\n",
        "  x = MaxPooling2D(pool_size=(2, 2))(x)\n",
        "  x = Dropout(0.2)(x)\n",
        "\n",
        "  x = Conv2D(128, (3, 3), activation='relu')(x)\n",
        "  x = MaxPooling2D(pool_size=(2, 2))(x)\n",
        "  x_output = Dropout(0.4)(x)\n",
        "\n",
        "  base_model = Model(x_input, x_output)\n",
        "  model.add(TimeDistributed(base_model, input_shape=base_model.input_shape))\n",
        "  model.add(TimeDistributed(Flatten()))\n",
        "  model.add(Bidirectional(LSTM(150, activation='relu')))\n",
        "  \n",
        "  model.add(Dense(64))\n",
        "  model.add(Activation('relu'))\n",
        "  model.add(Dropout(0.2))\n",
        "  model.add(Dense(10))\n",
        "  model.add(Activation('softmax'))\n",
        "  \n",
        "  model.compile(loss='categorical_crossentropy', metrics=['accuracy'],optimizer='adam')\n",
        "  \n",
        "  return model\n",
        "\n",
        "\n",
        "\n",
        "classifier = my_model()\n",
        "classifier.summary()\n",
        "print(\"ok\")"
      ],
      "execution_count": 644,
      "outputs": [
        {
          "output_type": "stream",
          "text": [
            "WARNING:tensorflow:Layer lstm_15 will not use cuDNN kernel since it doesn't meet the cuDNN kernel criteria. It will use generic GPU kernel as fallback when running on GPU\n",
            "WARNING:tensorflow:Layer lstm_15 will not use cuDNN kernel since it doesn't meet the cuDNN kernel criteria. It will use generic GPU kernel as fallback when running on GPU\n",
            "WARNING:tensorflow:Layer lstm_15 will not use cuDNN kernel since it doesn't meet the cuDNN kernel criteria. It will use generic GPU kernel as fallback when running on GPU\n",
            "Model: \"sequential_15\"\n",
            "_________________________________________________________________\n",
            "Layer (type)                 Output Shape              Param #   \n",
            "=================================================================\n",
            "time_distributed_30 (TimeDis (None, None, 6, 6, 128)   93248     \n",
            "_________________________________________________________________\n",
            "time_distributed_31 (TimeDis (None, None, 4608)        0         \n",
            "_________________________________________________________________\n",
            "bidirectional_15 (Bidirectio (None, 300)               5710800   \n",
            "_________________________________________________________________\n",
            "dense_30 (Dense)             (None, 64)                19264     \n",
            "_________________________________________________________________\n",
            "activation_30 (Activation)   (None, 64)                0         \n",
            "_________________________________________________________________\n",
            "dropout_63 (Dropout)         (None, 64)                0         \n",
            "_________________________________________________________________\n",
            "dense_31 (Dense)             (None, 10)                650       \n",
            "_________________________________________________________________\n",
            "activation_31 (Activation)   (None, 10)                0         \n",
            "=================================================================\n",
            "Total params: 5,823,962\n",
            "Trainable params: 5,823,962\n",
            "Non-trainable params: 0\n",
            "_________________________________________________________________\n",
            "ok\n"
          ],
          "name": "stdout"
        }
      ]
    },
    {
      "cell_type": "code",
      "metadata": {
        "id": "Ba0g5UtYTEwv"
      },
      "source": [
        ""
      ],
      "execution_count": 644,
      "outputs": []
    },
    {
      "cell_type": "code",
      "metadata": {
        "id": "5qAsqn-mTEwv"
      },
      "source": [
        "classifier.compile(optimizer='adam', loss='categorical_crossentropy', metrics=['accuracy'])"
      ],
      "execution_count": 645,
      "outputs": []
    },
    {
      "cell_type": "code",
      "metadata": {
        "id": "TlNh7zg1TEwx"
      },
      "source": [
        ""
      ],
      "execution_count": 645,
      "outputs": []
    },
    {
      "cell_type": "code",
      "metadata": {
        "colab": {
          "base_uri": "https://localhost:8080/"
        },
        "id": "ZaT9EP66TEwx",
        "outputId": "349e909f-6e06-46ac-d147-b37b0a8fb9ee"
      },
      "source": [
        "hist=classifier.fit(X_train,one_hot_train,epochs=50,batch_size=128,validation_split=0.2)"
      ],
      "execution_count": 605,
      "outputs": [
        {
          "output_type": "stream",
          "text": [
            "Epoch 1/50\n",
            "115/115 [==============================] - 6s 27ms/step - loss: 2.1683 - accuracy: 0.1726 - val_loss: 1.3830 - val_accuracy: 0.5680\n",
            "Epoch 2/50\n",
            "115/115 [==============================] - 3s 23ms/step - loss: 1.2699 - accuracy: 0.5561 - val_loss: 0.7736 - val_accuracy: 0.7493\n",
            "Epoch 3/50\n",
            "115/115 [==============================] - 3s 23ms/step - loss: 0.8076 - accuracy: 0.7213 - val_loss: 0.5764 - val_accuracy: 0.7980\n",
            "Epoch 4/50\n",
            "115/115 [==============================] - 3s 23ms/step - loss: 0.6112 - accuracy: 0.7900 - val_loss: 0.5037 - val_accuracy: 0.8348\n",
            "Epoch 5/50\n",
            "115/115 [==============================] - 3s 23ms/step - loss: 0.5111 - accuracy: 0.8208 - val_loss: 0.4040 - val_accuracy: 0.8632\n",
            "Epoch 6/50\n",
            "115/115 [==============================] - 3s 23ms/step - loss: 0.4494 - accuracy: 0.8400 - val_loss: 0.3608 - val_accuracy: 0.8711\n",
            "Epoch 7/50\n",
            "115/115 [==============================] - 3s 23ms/step - loss: 0.3985 - accuracy: 0.8582 - val_loss: 0.3714 - val_accuracy: 0.8790\n",
            "Epoch 8/50\n",
            "115/115 [==============================] - 3s 23ms/step - loss: 0.3237 - accuracy: 0.8845 - val_loss: 0.4821 - val_accuracy: 0.8242\n",
            "Epoch 9/50\n",
            "115/115 [==============================] - 3s 23ms/step - loss: 0.3269 - accuracy: 0.8867 - val_loss: 0.2978 - val_accuracy: 0.8975\n",
            "Epoch 10/50\n",
            "115/115 [==============================] - 3s 23ms/step - loss: 0.2777 - accuracy: 0.9063 - val_loss: 0.2606 - val_accuracy: 0.9141\n",
            "Epoch 11/50\n",
            "115/115 [==============================] - 3s 23ms/step - loss: 0.2257 - accuracy: 0.9201 - val_loss: 0.2495 - val_accuracy: 0.9150\n",
            "Epoch 12/50\n",
            "115/115 [==============================] - 3s 23ms/step - loss: 0.2090 - accuracy: 0.9296 - val_loss: 0.2387 - val_accuracy: 0.9256\n",
            "Epoch 13/50\n",
            "115/115 [==============================] - 3s 23ms/step - loss: 0.2029 - accuracy: 0.9310 - val_loss: 0.2254 - val_accuracy: 0.9270\n",
            "Epoch 14/50\n",
            "115/115 [==============================] - 3s 23ms/step - loss: 0.1685 - accuracy: 0.9440 - val_loss: 0.2629 - val_accuracy: 0.9136\n",
            "Epoch 15/50\n",
            "115/115 [==============================] - 3s 23ms/step - loss: 0.1776 - accuracy: 0.9373 - val_loss: 0.2706 - val_accuracy: 0.9139\n",
            "Epoch 16/50\n",
            "115/115 [==============================] - 3s 23ms/step - loss: 0.1560 - accuracy: 0.9484 - val_loss: 0.3019 - val_accuracy: 0.9030\n",
            "Epoch 17/50\n",
            "115/115 [==============================] - 3s 23ms/step - loss: 0.1597 - accuracy: 0.9459 - val_loss: 0.2095 - val_accuracy: 0.9392\n",
            "Epoch 18/50\n",
            "115/115 [==============================] - 3s 23ms/step - loss: 0.1251 - accuracy: 0.9548 - val_loss: 0.1889 - val_accuracy: 0.9389\n",
            "Epoch 19/50\n",
            "115/115 [==============================] - 3s 23ms/step - loss: 0.1136 - accuracy: 0.9615 - val_loss: 0.2298 - val_accuracy: 0.9300\n",
            "Epoch 20/50\n",
            "115/115 [==============================] - 3s 23ms/step - loss: 0.1243 - accuracy: 0.9565 - val_loss: 0.2159 - val_accuracy: 0.9305\n",
            "Epoch 21/50\n",
            "115/115 [==============================] - 3s 23ms/step - loss: 0.1091 - accuracy: 0.9616 - val_loss: 0.2258 - val_accuracy: 0.9324\n",
            "Epoch 22/50\n",
            "115/115 [==============================] - 3s 23ms/step - loss: 0.0936 - accuracy: 0.9668 - val_loss: 0.2328 - val_accuracy: 0.9300\n",
            "Epoch 23/50\n",
            "115/115 [==============================] - 3s 23ms/step - loss: 0.0923 - accuracy: 0.9704 - val_loss: 0.2933 - val_accuracy: 0.9171\n",
            "Epoch 24/50\n",
            "115/115 [==============================] - 3s 23ms/step - loss: 0.1112 - accuracy: 0.9616 - val_loss: 0.2026 - val_accuracy: 0.9349\n",
            "Epoch 25/50\n",
            "115/115 [==============================] - 3s 23ms/step - loss: 0.0849 - accuracy: 0.9711 - val_loss: 0.2631 - val_accuracy: 0.9220\n",
            "Epoch 26/50\n",
            "115/115 [==============================] - 3s 23ms/step - loss: 0.0871 - accuracy: 0.9707 - val_loss: 0.2500 - val_accuracy: 0.9305\n",
            "Epoch 27/50\n",
            "115/115 [==============================] - 3s 23ms/step - loss: 0.0645 - accuracy: 0.9783 - val_loss: 0.2520 - val_accuracy: 0.9327\n",
            "Epoch 28/50\n",
            "115/115 [==============================] - 3s 23ms/step - loss: 0.1019 - accuracy: 0.9684 - val_loss: 0.2110 - val_accuracy: 0.9392\n",
            "Epoch 29/50\n",
            "115/115 [==============================] - 3s 23ms/step - loss: 0.0925 - accuracy: 0.9709 - val_loss: 0.2188 - val_accuracy: 0.9357\n",
            "Epoch 30/50\n",
            "115/115 [==============================] - 3s 23ms/step - loss: 0.0594 - accuracy: 0.9799 - val_loss: 0.2000 - val_accuracy: 0.9398\n",
            "Epoch 31/50\n",
            "115/115 [==============================] - 3s 23ms/step - loss: 0.0757 - accuracy: 0.9734 - val_loss: 0.2440 - val_accuracy: 0.9308\n",
            "Epoch 32/50\n",
            "115/115 [==============================] - 3s 23ms/step - loss: 0.0673 - accuracy: 0.9764 - val_loss: 0.2809 - val_accuracy: 0.9171\n",
            "Epoch 33/50\n",
            "115/115 [==============================] - 3s 23ms/step - loss: 0.0619 - accuracy: 0.9788 - val_loss: 0.2567 - val_accuracy: 0.9316\n",
            "Epoch 34/50\n",
            "115/115 [==============================] - 3s 23ms/step - loss: 0.0818 - accuracy: 0.9748 - val_loss: 0.2181 - val_accuracy: 0.9403\n",
            "Epoch 35/50\n",
            "115/115 [==============================] - 3s 23ms/step - loss: 0.0561 - accuracy: 0.9820 - val_loss: 0.2294 - val_accuracy: 0.9379\n",
            "Epoch 36/50\n",
            "115/115 [==============================] - 3s 23ms/step - loss: 0.0657 - accuracy: 0.9778 - val_loss: 0.2653 - val_accuracy: 0.9275\n",
            "Epoch 37/50\n",
            "115/115 [==============================] - 3s 23ms/step - loss: 0.0502 - accuracy: 0.9829 - val_loss: 0.2346 - val_accuracy: 0.9384\n",
            "Epoch 38/50\n",
            "115/115 [==============================] - 3s 23ms/step - loss: 0.0638 - accuracy: 0.9793 - val_loss: 0.2004 - val_accuracy: 0.9499\n",
            "Epoch 39/50\n",
            "115/115 [==============================] - 3s 23ms/step - loss: 0.0722 - accuracy: 0.9765 - val_loss: 0.2437 - val_accuracy: 0.9379\n",
            "Epoch 40/50\n",
            "115/115 [==============================] - 3s 23ms/step - loss: 0.0456 - accuracy: 0.9862 - val_loss: 0.1980 - val_accuracy: 0.9441\n",
            "Epoch 41/50\n",
            "115/115 [==============================] - 3s 23ms/step - loss: 0.0464 - accuracy: 0.9830 - val_loss: 0.2016 - val_accuracy: 0.9458\n",
            "Epoch 42/50\n",
            "115/115 [==============================] - 3s 23ms/step - loss: 0.0431 - accuracy: 0.9854 - val_loss: 0.1877 - val_accuracy: 0.9490\n",
            "Epoch 43/50\n",
            "115/115 [==============================] - 3s 23ms/step - loss: 0.0373 - accuracy: 0.9887 - val_loss: 0.2126 - val_accuracy: 0.9545\n",
            "Epoch 44/50\n",
            "115/115 [==============================] - 3s 23ms/step - loss: 0.0386 - accuracy: 0.9886 - val_loss: 0.2220 - val_accuracy: 0.9460\n",
            "Epoch 45/50\n",
            "115/115 [==============================] - 3s 23ms/step - loss: 0.0431 - accuracy: 0.9851 - val_loss: 0.2424 - val_accuracy: 0.9414\n",
            "Epoch 46/50\n",
            "115/115 [==============================] - 3s 23ms/step - loss: 0.0835 - accuracy: 0.9726 - val_loss: 0.2322 - val_accuracy: 0.9419\n",
            "Epoch 47/50\n",
            "115/115 [==============================] - 3s 23ms/step - loss: 0.0394 - accuracy: 0.9868 - val_loss: 0.2588 - val_accuracy: 0.9387\n",
            "Epoch 48/50\n",
            "115/115 [==============================] - 3s 23ms/step - loss: 0.0466 - accuracy: 0.9846 - val_loss: 0.1970 - val_accuracy: 0.9518\n",
            "Epoch 49/50\n",
            "115/115 [==============================] - 3s 23ms/step - loss: 0.0612 - accuracy: 0.9803 - val_loss: 0.2104 - val_accuracy: 0.9414\n",
            "Epoch 50/50\n",
            "115/115 [==============================] - 3s 23ms/step - loss: 0.0455 - accuracy: 0.9858 - val_loss: 0.2367 - val_accuracy: 0.9365\n",
            "Epoch 1/50\n",
            "230/230 [==============================] - 8s 26ms/step - loss: 1.8055 - accuracy: 0.3318 - val_loss: 0.7436 - val_accuracy: 0.7533\n",
            "Epoch 2/50\n",
            "230/230 [==============================] - 5s 23ms/step - loss: 0.7102 - accuracy: 0.7520 - val_loss: 0.6232 - val_accuracy: 0.7852\n",
            "Epoch 3/50\n",
            "230/230 [==============================] - 5s 23ms/step - loss: 0.4458 - accuracy: 0.8446 - val_loss: 0.2858 - val_accuracy: 0.9001\n",
            "Epoch 4/50\n",
            "230/230 [==============================] - 5s 23ms/step - loss: 0.3484 - accuracy: 0.8802 - val_loss: 0.2627 - val_accuracy: 0.9054\n",
            "Epoch 5/50\n",
            "230/230 [==============================] - 5s 23ms/step - loss: 0.2736 - accuracy: 0.9059 - val_loss: 0.1778 - val_accuracy: 0.9413\n",
            "Epoch 6/50\n",
            "230/230 [==============================] - 5s 23ms/step - loss: 0.1966 - accuracy: 0.9340 - val_loss: 0.1195 - val_accuracy: 0.9588\n",
            "Epoch 7/50\n",
            "230/230 [==============================] - 5s 23ms/step - loss: 0.1892 - accuracy: 0.9359 - val_loss: 0.1223 - val_accuracy: 0.9595\n",
            "Epoch 8/50\n",
            "230/230 [==============================] - 5s 23ms/step - loss: 0.1537 - accuracy: 0.9468 - val_loss: 0.1465 - val_accuracy: 0.9499\n",
            "Epoch 9/50\n",
            "230/230 [==============================] - 5s 23ms/step - loss: 0.1773 - accuracy: 0.9418 - val_loss: 0.1002 - val_accuracy: 0.9706\n",
            "Epoch 10/50\n",
            "230/230 [==============================] - 5s 23ms/step - loss: 0.1080 - accuracy: 0.9628 - val_loss: 0.0730 - val_accuracy: 0.9775\n",
            "Epoch 11/50\n",
            "230/230 [==============================] - 5s 23ms/step - loss: 0.1072 - accuracy: 0.9626 - val_loss: 0.1010 - val_accuracy: 0.9678\n",
            "Epoch 12/50\n",
            "230/230 [==============================] - 5s 23ms/step - loss: 0.1140 - accuracy: 0.9622 - val_loss: 0.0866 - val_accuracy: 0.9718\n",
            "Epoch 13/50\n",
            "230/230 [==============================] - 5s 23ms/step - loss: 0.0817 - accuracy: 0.9715 - val_loss: 0.1115 - val_accuracy: 0.9638\n",
            "Epoch 14/50\n",
            "230/230 [==============================] - 5s 23ms/step - loss: 0.0717 - accuracy: 0.9760 - val_loss: 0.0841 - val_accuracy: 0.9673\n",
            "Epoch 15/50\n",
            "230/230 [==============================] - 5s 23ms/step - loss: 0.0825 - accuracy: 0.9736 - val_loss: 0.0754 - val_accuracy: 0.9751\n",
            "Epoch 16/50\n",
            "230/230 [==============================] - 5s 23ms/step - loss: 0.0551 - accuracy: 0.9818 - val_loss: 0.0572 - val_accuracy: 0.9830\n",
            "Epoch 17/50\n",
            "230/230 [==============================] - 5s 23ms/step - loss: 0.0734 - accuracy: 0.9765 - val_loss: 0.0383 - val_accuracy: 0.9877\n",
            "Epoch 18/50\n",
            "230/230 [==============================] - 5s 23ms/step - loss: 0.0525 - accuracy: 0.9837 - val_loss: 0.0509 - val_accuracy: 0.9832\n",
            "Epoch 19/50\n",
            "230/230 [==============================] - 5s 23ms/step - loss: 0.0612 - accuracy: 0.9790 - val_loss: 0.0391 - val_accuracy: 0.9879\n",
            "Epoch 20/50\n",
            "230/230 [==============================] - 5s 23ms/step - loss: 0.0485 - accuracy: 0.9840 - val_loss: 0.0505 - val_accuracy: 0.9862\n",
            "Epoch 21/50\n",
            "230/230 [==============================] - 5s 23ms/step - loss: 0.0621 - accuracy: 0.9799 - val_loss: 0.0349 - val_accuracy: 0.9905\n",
            "Epoch 22/50\n",
            "230/230 [==============================] - 5s 23ms/step - loss: 0.0395 - accuracy: 0.9877 - val_loss: 0.0587 - val_accuracy: 0.9841\n",
            "Epoch 23/50\n",
            "230/230 [==============================] - 5s 23ms/step - loss: 0.0507 - accuracy: 0.9839 - val_loss: 0.0464 - val_accuracy: 0.9873\n",
            "Epoch 24/50\n",
            "230/230 [==============================] - 5s 23ms/step - loss: 0.0432 - accuracy: 0.9850 - val_loss: 0.0385 - val_accuracy: 0.9890\n",
            "Epoch 25/50\n",
            "230/230 [==============================] - 5s 23ms/step - loss: 0.0568 - accuracy: 0.9824 - val_loss: 0.0618 - val_accuracy: 0.9823\n",
            "Epoch 26/50\n",
            "230/230 [==============================] - 5s 23ms/step - loss: 0.0330 - accuracy: 0.9898 - val_loss: 0.0440 - val_accuracy: 0.9880\n",
            "Epoch 27/50\n",
            "230/230 [==============================] - 5s 23ms/step - loss: 0.0505 - accuracy: 0.9842 - val_loss: 0.0413 - val_accuracy: 0.9856\n",
            "Epoch 28/50\n",
            "230/230 [==============================] - 5s 23ms/step - loss: 0.0344 - accuracy: 0.9893 - val_loss: 0.0343 - val_accuracy: 0.9911\n",
            "Epoch 29/50\n",
            "230/230 [==============================] - 5s 23ms/step - loss: 0.0360 - accuracy: 0.9884 - val_loss: 0.0508 - val_accuracy: 0.9864\n",
            "Epoch 30/50\n",
            "230/230 [==============================] - 5s 23ms/step - loss: 0.0285 - accuracy: 0.9905 - val_loss: 0.0435 - val_accuracy: 0.9884\n",
            "Epoch 31/50\n",
            "230/230 [==============================] - 5s 23ms/step - loss: 0.0377 - accuracy: 0.9884 - val_loss: 0.0274 - val_accuracy: 0.9918\n",
            "Epoch 32/50\n",
            "230/230 [==============================] - 5s 23ms/step - loss: 0.0442 - accuracy: 0.9865 - val_loss: 0.0417 - val_accuracy: 0.9869\n",
            "Epoch 33/50\n",
            "230/230 [==============================] - 5s 23ms/step - loss: 0.0343 - accuracy: 0.9893 - val_loss: 0.0566 - val_accuracy: 0.9857\n",
            "Epoch 34/50\n",
            "230/230 [==============================] - 5s 23ms/step - loss: 0.0431 - accuracy: 0.9867 - val_loss: 0.0370 - val_accuracy: 0.9922\n",
            "Epoch 35/50\n",
            "230/230 [==============================] - 5s 23ms/step - loss: 0.0308 - accuracy: 0.9912 - val_loss: 0.0448 - val_accuracy: 0.9898\n",
            "Epoch 36/50\n",
            "230/230 [==============================] - 5s 23ms/step - loss: 0.0440 - accuracy: 0.9871 - val_loss: 0.0517 - val_accuracy: 0.9869\n",
            "Epoch 37/50\n",
            "230/230 [==============================] - 5s 23ms/step - loss: 0.0341 - accuracy: 0.9890 - val_loss: 0.0356 - val_accuracy: 0.9920\n",
            "Epoch 38/50\n",
            "230/230 [==============================] - 5s 23ms/step - loss: 0.0208 - accuracy: 0.9935 - val_loss: 0.0465 - val_accuracy: 0.9858\n",
            "Epoch 39/50\n",
            "230/230 [==============================] - 5s 23ms/step - loss: 0.0272 - accuracy: 0.9917 - val_loss: 0.0549 - val_accuracy: 0.9858\n",
            "Epoch 40/50\n",
            "230/230 [==============================] - 5s 23ms/step - loss: 0.0307 - accuracy: 0.9906 - val_loss: 0.0351 - val_accuracy: 0.9903\n",
            "Epoch 41/50\n",
            "230/230 [==============================] - 5s 23ms/step - loss: 0.0328 - accuracy: 0.9893 - val_loss: 0.0383 - val_accuracy: 0.9896\n",
            "Epoch 42/50\n",
            "230/230 [==============================] - 5s 23ms/step - loss: 0.0257 - accuracy: 0.9920 - val_loss: 0.0448 - val_accuracy: 0.9891\n",
            "Epoch 43/50\n",
            "230/230 [==============================] - 5s 23ms/step - loss: 0.0415 - accuracy: 0.9875 - val_loss: 0.0512 - val_accuracy: 0.9875\n",
            "Epoch 44/50\n",
            "230/230 [==============================] - 5s 23ms/step - loss: 0.0214 - accuracy: 0.9935 - val_loss: 0.0521 - val_accuracy: 0.9892\n",
            "Epoch 45/50\n",
            "230/230 [==============================] - 5s 23ms/step - loss: 0.0301 - accuracy: 0.9907 - val_loss: 0.0965 - val_accuracy: 0.9736\n",
            "Epoch 46/50\n",
            "230/230 [==============================] - 5s 23ms/step - loss: 0.0288 - accuracy: 0.9910 - val_loss: 0.0412 - val_accuracy: 0.9917\n",
            "Epoch 47/50\n",
            "230/230 [==============================] - 5s 23ms/step - loss: 0.0215 - accuracy: 0.9925 - val_loss: 0.0520 - val_accuracy: 0.9871\n",
            "Epoch 48/50\n",
            "230/230 [==============================] - 5s 23ms/step - loss: 0.0182 - accuracy: 0.9940 - val_loss: 0.0332 - val_accuracy: 0.9920\n",
            "Epoch 49/50\n",
            "230/230 [==============================] - 5s 23ms/step - loss: 0.0517 - accuracy: 0.9844 - val_loss: 0.0265 - val_accuracy: 0.9933\n",
            "Epoch 50/50\n",
            "230/230 [==============================] - 5s 23ms/step - loss: 0.0224 - accuracy: 0.9925 - val_loss: 0.0353 - val_accuracy: 0.9941\n"
          ],
          "name": "stdout"
        }
      ]
    },
    {
      "cell_type": "code",
      "metadata": {
        "colab": {
          "base_uri": "https://localhost:8080/"
        },
        "id": "yxImw2l1TEwx",
        "outputId": "9cf4d46f-d202-411f-b5b5-20b8d222e94c"
      },
      "source": [
        "test_loss,test_acc=classifier.evaluate(X_test,one_hot_test)\n",
        "test_loss,test_acc"
      ],
      "execution_count": 658,
      "outputs": [
        {
          "output_type": "stream",
          "text": [
            "144/144 [==============================] - 1s 4ms/step - loss: 2.3035 - accuracy: 0.0757\n"
          ],
          "name": "stdout"
        },
        {
          "output_type": "execute_result",
          "data": {
            "text/plain": [
              "(2.3034543991088867, 0.07568156719207764)"
            ]
          },
          "metadata": {
            "tags": []
          },
          "execution_count": 658
        }
      ]
    },
    {
      "cell_type": "code",
      "metadata": {
        "colab": {
          "base_uri": "https://localhost:8080/",
          "height": 295
        },
        "id": "maXX4B3-TEwx",
        "outputId": "ef09b634-07d6-4f21-8df7-b57bc97abe99"
      },
      "source": [
        "from matplotlib import pyplot as plt\n",
        "plt.plot(hist.history['loss'])\n",
        "plt.plot(hist.history['val_loss'])\n",
        "plt.title('Classifier Loss')\n",
        "plt.ylabel('Loss')\n",
        "plt.xlabel('Epoch')\n",
        "plt.legend(['Train','Validation'],loc='upper right')\n",
        "plt.show()"
      ],
      "execution_count": 647,
      "outputs": [
        {
          "output_type": "display_data",
          "data": {
            "image/png": "[encoded data removed]",
            "text/plain": [
              "<Figure size 432x288 with 1 Axes>"
            ]
          },
          "metadata": {
            "tags": [],
            "needs_background": "light"
          }
        }
      ]
    },
    {
      "cell_type": "code",
      "metadata": {
        "colab": {
          "base_uri": "https://localhost:8080/",
          "height": 295
        },
        "id": "IllJJblVTEwy",
        "outputId": "34b9c220-9308-4857-d440-981cca6c52f1"
      },
      "source": [
        "plt.plot(hist.history['accuracy'])\n",
        "plt.plot(hist.history['val_accuracy'])\n",
        "plt.title('Classifier Accuracy')\n",
        "plt.ylabel('Accuracy')\n",
        "plt.xlabel('Epoch')\n",
        "plt.legend(['Train','Validation'],loc='upper left')\n",
        "plt.show()"
      ],
      "execution_count": 648,
      "outputs": [
        {
          "output_type": "display_data",
          "data": {
            "image/png": "[encoded data removed]",
            "text/plain": [
              "<Figure size 432x288 with 1 Axes>"
            ]
          },
          "metadata": {
            "tags": [],
            "needs_background": "light"
          }
        }
      ]
    },
    {
      "cell_type": "code",
      "metadata": {
        "colab": {
          "base_uri": "https://localhost:8080/"
        },
        "id": "hyDLe6scTEwy",
        "outputId": "d1333a56-4ada-4569-8dc8-0d8f911ab698"
      },
      "source": [
        "y_pred=classifier.predict_classes(X_test)\n",
        "y_pred"
      ],
      "execution_count": 649,
      "outputs": [
        {
          "output_type": "stream",
          "text": [
            "/usr/local/lib/python3.6/dist-packages/tensorflow/python/keras/engine/sequential.py:450: UserWarning: `model.predict_classes()` is deprecated and will be removed after 2021-01-01. Please use instead:* `np.argmax(model.predict(x), axis=-1)`,   if your model does multi-class classification   (e.g. if it uses a `softmax` last-layer activation).* `(model.predict(x) > 0.5).astype(\"int32\")`,   if your model does binary classification   (e.g. if it uses a `sigmoid` last-layer activation).\n",
            "  warnings.warn('`model.predict_classes()` is deprecated and '\n"
          ],
          "name": "stderr"
        },
        {
          "output_type": "execute_result",
          "data": {
            "text/plain": [
              "array([0, 0, 0, ..., 0, 0, 4])"
            ]
          },
          "metadata": {
            "tags": []
          },
          "execution_count": 649
        }
      ]
    },
    {
      "cell_type": "code",
      "metadata": {
        "colab": {
          "base_uri": "https://localhost:8080/"
        },
        "id": "UPhNcwI3TEwy",
        "outputId": "e96246bc-f84b-4b53-af0b-53e07ca1501c"
      },
      "source": [
        "y_prob=classifier.predict_proba(X_test)\n",
        "y_prob"
      ],
      "execution_count": 650,
      "outputs": [
        {
          "output_type": "stream",
          "text": [
            "/usr/local/lib/python3.6/dist-packages/tensorflow/python/keras/engine/sequential.py:425: UserWarning: `model.predict_proba()` is deprecated and will be removed after 2021-01-01. Please use `model.predict()` instead.\n",
            "  warnings.warn('`model.predict_proba()` is deprecated and '\n"
          ],
          "name": "stderr"
        },
        {
          "output_type": "execute_result",
          "data": {
            "text/plain": [
              "array([[0.10169589, 0.09938129, 0.10007285, ..., 0.10050377, 0.09869789,\n",
              "        0.09890348],\n",
              "       [0.10136731, 0.09955282, 0.1003866 , ..., 0.10021178, 0.09870919,\n",
              "        0.09880149],\n",
              "       [0.10133447, 0.09924718, 0.10026087, ..., 0.09972753, 0.09855823,\n",
              "        0.09938933],\n",
              "       ...,\n",
              "       [0.10148272, 0.09919308, 0.10010273, ..., 0.09986191, 0.0988854 ,\n",
              "        0.09920418],\n",
              "       [0.10146528, 0.09922346, 0.10039727, ..., 0.09981933, 0.09873339,\n",
              "        0.09918729],\n",
              "       [0.10105017, 0.0994844 , 0.09942917, ..., 0.09991281, 0.09905419,\n",
              "        0.09861255]], dtype=float32)"
            ]
          },
          "metadata": {
            "tags": []
          },
          "execution_count": 650
        }
      ]
    },
    {
      "cell_type": "code",
      "metadata": {
        "id": "dEDka63VTEwz"
      },
      "source": [
        "from sklearn.metrics import roc_curve, auc"
      ],
      "execution_count": 651,
      "outputs": []
    },
    {
      "cell_type": "code",
      "metadata": {
        "id": "S2a5PLfRTEwz"
      },
      "source": [
        "fpr = {}\n",
        "tpr = {}\n",
        "thresh ={}\n",
        "roc_auc={}"
      ],
      "execution_count": 652,
      "outputs": []
    },
    {
      "cell_type": "code",
      "metadata": {
        "id": "WZ11c2D3TEwz"
      },
      "source": [
        "n_class = 10"
      ],
      "execution_count": 653,
      "outputs": []
    },
    {
      "cell_type": "code",
      "metadata": {
        "colab": {
          "base_uri": "https://localhost:8080/",
          "height": 312
        },
        "id": "Q025-zR_TEw0",
        "outputId": "48a37e58-c4f3-4590-e124-0f6e712bc81d"
      },
      "source": [
        "for i in range(n_class):    \n",
        "    fpr[i], tpr[i], thresh[i] = roc_curve(y_test, y_prob[:,i], pos_label=i)\n",
        "    roc_auc[i] = auc(fpr[i], tpr[i])\n",
        "      \n",
        "plt.plot(fpr[0], tpr[0], color='orange',label='Bacterial Spot AUC = %0.3f' % roc_auc[0])\n",
        "plt.plot(fpr[1], tpr[1], color='green',label='Early Blight AUC = %0.3f' % roc_auc[1])\n",
        "plt.plot(fpr[2], tpr[2], color='blue',label='Healthy AUC = %0.3f' % roc_auc[2])\n",
        "plt.plot(fpr[3], tpr[3], color='red',label='Late Blight AUC = %0.3f' % roc_auc[3])\n",
        "plt.plot(fpr[4], tpr[4], color='pink',label='Leaf Mold AUC = %0.3f' % roc_auc[4])\n",
        "plt.plot(fpr[5], tpr[5], color='purple',label='Septoria Leaf Spot AUC = %0.3f' % roc_auc[5])\n",
        "plt.plot(fpr[6], tpr[6], color='brown',label='Spider Mites AUC = %0.3f' % roc_auc[6])\n",
        "plt.plot(fpr[7], tpr[7], color='cyan',label='Target Spot AUC = %0.3f' % roc_auc[7])\n",
        "plt.plot(fpr[8], tpr[8], color='yellow',label='Mosaic Virus AUC = %0.3f' % roc_auc[8])\n",
        "plt.plot(fpr[9], tpr[9], color='black',label='Yellow Leaf Curl Virus AUC = %0.3f' % roc_auc[9])\n",
        "plt.title('Tomato Leaves Diseases ROC curve')\n",
        "plt.xlabel('False Positive Rate')\n",
        "plt.ylabel('True Positive rate')\n",
        "plt.legend(loc='best')"
      ],
      "execution_count": 654,
      "outputs": [
        {
          "output_type": "execute_result",
          "data": {
            "text/plain": [
              "<matplotlib.legend.Legend at 0x7f4e90fe9160>"
            ]
          },
          "metadata": {
            "tags": []
          },
          "execution_count": 654
        },
        {
          "output_type": "display_data",
          "data": {
            "image/png": "[encoded data removed]",
            "text/plain": [
              "<Figure size 432x288 with 1 Axes>"
            ]
          },
          "metadata": {
            "tags": [],
            "needs_background": "light"
          }
        }
      ]
    },
    {
      "cell_type": "code",
      "metadata": {
        "id": "SIMlJ6KQTEw0"
      },
      "source": [
        "from sklearn.metrics import confusion_matrix"
      ],
      "execution_count": 655,
      "outputs": []
    },
    {
      "cell_type": "markdown",
      "metadata": {
        "id": "k2qm11shwykj"
      },
      "source": [
        ""
      ]
    },
    {
      "cell_type": "code",
      "metadata": {
        "id": "c6Uv-hFawz8n"
      },
      "source": [
        ""
      ],
      "execution_count": 655,
      "outputs": []
    },
    {
      "cell_type": "code",
      "metadata": {
        "colab": {
          "base_uri": "https://localhost:8080/",
          "height": 265
        },
        "id": "fEPtSMHLTEw1",
        "outputId": "b8bf3c4a-d87e-4a8a-b5d8-4987514cb8b1"
      },
      "source": [
        "sns.heatmap(confusion_matrix(y_test,y_pred))\n",
        "cm=confusion_matrix(y_test,y_pred)"
      ],
      "execution_count": 656,
      "outputs": [
        {
          "output_type": "display_data",
          "data": {
            "image/png": "[encoded data removed]",
            "text/plain": [
              "<Figure size 432x288 with 2 Axes>"
            ]
          },
          "metadata": {
            "tags": [],
            "needs_background": "light"
          }
        }
      ]
    },
    {
      "cell_type": "code",
      "metadata": {
        "id": "TPVjFFogiV5S"
      },
      "source": [
        "classifier.save(\"/content/drive/MyDrive/work1/model-bilstm.h5\")"
      ],
      "execution_count": 657,
      "outputs": []
    }
  ]
}